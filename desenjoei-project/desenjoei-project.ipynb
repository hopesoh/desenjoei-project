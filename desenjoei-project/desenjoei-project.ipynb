{
 "cells": [
  {
   "cell_type": "markdown",
   "metadata": {},
   "source": [
    "<h1>Análise de dados de CRM.</h1>  \n",
    "\n",
    "\n",
    "<p> O seguinte projeto, tem como objetivo responder algumas perguntas levantadas pela área de <i>Customer Relationship Management</i> voltada ao entendimento e antecipação das necessidades e potenciais de uma certa empresa. São, ao todo, 6 questões que envolvem as informações dos usuários, das transações e dos produtos postados dentro de um certo intervalo de tempo.</p>\n",
    "___\n",
    "\n",
    "<p>O projeto foi desenvolvido utilizando o Jupyter Notebook, Python 3, algumas bibliotecas para análise de dados e planilhas em formato .csv disponibilizadas pela própria empresa. Com a ajuda do Excel, foi possível transformar essas planilhas em formatos .xlsx apenas para facilitar as análises.</p>\n",
    "<p> Recomenda-se o uso do [nbviewer](https://nbviewer.jupyter.org/ 'Jupyter Notebook Viewer') para uma melhor visualização do conteúdo aqui disponibilizado.</p>"
   ]
  },
  {
   "cell_type": "markdown",
   "metadata": {},
   "source": [
    "<h4> <li> Imports de bibliotecas utilizadas </li> </h4>"
   ]
  },
  {
   "cell_type": "code",
   "execution_count": 180,
   "metadata": {
    "collapsed": true
   },
   "outputs": [],
   "source": [
    "import pandas as pd\n",
    "import numpy as np\n",
    "import matplotlib.pyplot as plt\n",
    "from datetime import *\n",
    "\n",
    "%matplotlib inline"
   ]
  },
  {
   "cell_type": "markdown",
   "metadata": {},
   "source": [
    "<h4> <li> Imports dos dados disponibilizados </li> </h4>"
   ]
  },
  {
   "cell_type": "code",
   "execution_count": 181,
   "metadata": {
    "collapsed": true
   },
   "outputs": [],
   "source": [
    "xlsx_users = pd.ExcelFile('usuarios.xlsx', encoding= 'utf-8')\n",
    "users = pd.read_excel(xlsx_users,  dtype={'id':str, 'gender':str, 'city':str, 'state':str})\n",
    "users['created_at'] = pd.to_datetime(users['created_at'])\n",
    "xlsx_trans = pd.ExcelFile('transacoes.xlsx', encoding= 'utf-8')\n",
    "transactions = pd.read_excel(xlsx_trans,  dtype={'id':str, 'seller_id':str, 'buyer_id':str, 'product_id':str,\n",
    "                                                 'price':float, 'shipping_price':float})\n",
    "transactions['sold_at'] = pd.to_datetime(transactions['sold_at'])\n",
    "xlsx_prod = pd.ExcelFile('produtos.xlsx', encoding= 'utf-8')\n",
    "products = pd.read_excel(xlsx_prod,  dtype={'id':str, 'normalized_brand':str, 'state':str, 'price':float,\n",
    "                                'used':str, 'quantity':float, 'title':str, 'product_department':str,\n",
    "                                'product_category':str, 'product_subcategory':str})\n",
    "products['created_at'] = pd.to_datetime(products['created_at'])"
   ]
  },
  {
   "cell_type": "markdown",
   "metadata": {},
   "source": [
    "<h4> 1) As TOP 10 subcategorias em vendas (valor e quantidade). </h4>\n",
    "<p>Para a realização desse item, foi feito o uso da tabela products com uma maior atenção para as subcategorias. É importante ressaltar que existem subcategorias vazias. Assim, o top 10 será listado com base, apenas, nas categorias que apresentam subcategorias. A análise, neste caso, foi dividida de duas formas: com relação ao __valor__ e com relação a __quantidade__ vendida.</p>"
   ]
  },
  {
   "cell_type": "code",
   "execution_count": 182,
   "metadata": {},
   "outputs": [],
   "source": [
    "soldProducts = products[products['state'] == 'sold']\n",
    "\n",
    "soldProducts = soldProducts.apply(lambda x: x.replace('relÃ³gios', 'relógios'))\n",
    "soldProducts = soldProducts.apply(lambda x: x.replace('Ã³culos', 'óculos'))\n",
    "soldProducts = soldProducts.apply(lambda x: x.replace('calÃ§as', 'calças'))\n",
    "soldProducts = soldProducts.apply(lambda x: x.replace('tÃªnis', 'tênis'))\n",
    "soldProducts = soldProducts.apply(lambda x: x.replace('sandÃ¡lias', 'sandálias'))\n",
    "\n",
    "soldProductsByPrice = soldProducts.groupby('product_subcategory').sum().sort_values('price', ascending=False).head(11)\n",
    "soldProductsByQuantity = soldProducts.groupby('product_subcategory').sum().sort_values('quantity', ascending=False).head(11)\n",
    "del soldProductsByPrice['user_id']\n",
    "del soldProductsByPrice['quantity']\n",
    "del soldProductsByQuantity['user_id']\n",
    "del soldProductsByQuantity['price']"
   ]
  },
  {
   "cell_type": "code",
   "execution_count": 183,
   "metadata": {
    "scrolled": true
   },
   "outputs": [
    {
     "data": {
      "text/plain": [
       "<matplotlib.axes._subplots.AxesSubplot at 0x21595cbf7b8>"
      ]
     },
     "execution_count": 183,
     "metadata": {},
     "output_type": "execute_result"
    },
    {
     "data": {
      "image/png": "[encoded data removed]",
      "text/plain": [
       "<matplotlib.figure.Figure at 0x21595ca1fd0>"
      ]
     },
     "metadata": {},
     "output_type": "display_data"
    }
   ],
   "source": [
    "soldProductsByPrice.plot(kind='bar')"
   ]
  },
  {
   "cell_type": "code",
   "execution_count": 184,
   "metadata": {
    "scrolled": true
   },
   "outputs": [
    {
     "data": {
      "text/plain": [
       "<matplotlib.axes._subplots.AxesSubplot at 0x2159c957748>"
      ]
     },
     "execution_count": 184,
     "metadata": {},
     "output_type": "execute_result"
    },
    {
     "data": {
      "image/png": "[encoded data removed]",
      "text/plain": [
       "<matplotlib.figure.Figure at 0x21599693a20>"
      ]
     },
     "metadata": {},
     "output_type": "display_data"
    }
   ],
   "source": [
    "soldProductsByQuantity.plot(kind='bar', color='orange')"
   ]
  },
  {
   "cell_type": "markdown",
   "metadata": {},
   "source": [
    "**Por preço**: relógios, vestidos, ombro, nan (não especificados), casaquinhos, sapatos, óculos, blusas, tênis, botas, calças.  \n",
    "**Por quantidade**: vestidos, nan, blusas, sapatos, ombros, casaquinhos, bijoux, camisas, camisetas, calças, óculos."
   ]
  },
  {
   "cell_type": "markdown",
   "metadata": {},
   "source": [
    "<li>A grande diferença de primeiros lugares se deve, basicamente, pela diferença entre preços de venda. O preço médio de um relógio fica em torno de 490 unidades monetárias, quando o preço médio dos vestidos passa pouco mais de 100 unidades monetárias.</li>"
   ]
  },
  {
   "cell_type": "markdown",
   "metadata": {},
   "source": [
    "<h4> 2) O percentual dos usuários que viraram compradores em até 30 dias e em até 90 dias. </h4>\n",
    "<p>Aqui, foi feito uso das tabelas <i>users</i> e <i>transactions</i> e criada novas colunas em <i>users</i> referentes às datas de criação adicionadas de 30 e 90 dias. Assim, é possível efetuar a comparação entre a data de venda e o intervalo desejado. Os itens que satisfazem às condições impostas, são contadas para, posteriormente, ser feito os calculos. </p>"
   ]
  },
  {
   "cell_type": "code",
   "execution_count": 185,
   "metadata": {
    "collapsed": true
   },
   "outputs": [],
   "source": [
    "users['users_30days'] = pd.to_datetime(users['created_at']) + timedelta(days=30)\n",
    "users['users_90days'] = pd.to_datetime(users['created_at']) + timedelta(days=90)"
   ]
  },
  {
   "cell_type": "code",
   "execution_count": 186,
   "metadata": {
    "scrolled": true
   },
   "outputs": [],
   "source": [
    "totalUntil30Days = 0\n",
    "totalUntil90Days = 0\n",
    "totalUsers = []\n",
    "for i in range (0, len(users)):\n",
    "    for j in range (0, len(transactions)):\n",
    "        if  transactions.loc[j,'buyer_id'] == users.loc[i,'id'] :\n",
    "            if transactions.loc[j,'buyer_id'] not in totalUsers:\n",
    "                totalUsers.append(transactions.loc[j,'buyer_id'])\n",
    "                if pd.to_datetime(transactions.loc[j,'sold_at']) <= users.loc[i,'users_30days'] and pd.to_datetime(transactions.loc[j,'sold_at']) - users.loc[i,'created_at'] >= timedelta(days=0):\n",
    "                    totalUntil30Days = totalUntil30Days + 1\n",
    "                if pd.to_datetime(transactions.loc[j,'sold_at']) <= users.loc[i,'users_90days'] and pd.to_datetime(transactions.loc[j,'sold_at']) - users.loc[i,'created_at'] >= timedelta(days=0):\n",
    "                    totalUntil90Days = totalUntil90Days + 1"
   ]
  },
  {
   "cell_type": "code",
   "execution_count": 187,
   "metadata": {},
   "outputs": [],
   "source": [
    "percentUntil30Days = totalUntil30Days/len(users)"
   ]
  },
  {
   "cell_type": "code",
   "execution_count": 188,
   "metadata": {},
   "outputs": [
    {
     "data": {
      "text/plain": [
       "0.06747528284578534"
      ]
     },
     "execution_count": 188,
     "metadata": {},
     "output_type": "execute_result"
    }
   ],
   "source": [
    "percentUntil30Days"
   ]
  },
  {
   "cell_type": "code",
   "execution_count": 189,
   "metadata": {
    "collapsed": true
   },
   "outputs": [],
   "source": [
    "percentUntil90Days = totalUntil90Days/len(users)"
   ]
  },
  {
   "cell_type": "code",
   "execution_count": 190,
   "metadata": {},
   "outputs": [
    {
     "data": {
      "text/plain": [
       "0.10376108449699317"
      ]
     },
     "execution_count": 190,
     "metadata": {},
     "output_type": "execute_result"
    }
   ],
   "source": [
    "percentUntil90Days"
   ]
  },
  {
   "cell_type": "markdown",
   "metadata": {},
   "source": [
    "sendo 6,75% de usuários que viram compradores em até 30 dias e 10,37% de usuários que viram compradores em até 90 dias."
   ]
  },
  {
   "cell_type": "markdown",
   "metadata": {},
   "source": [
    "<h4> 3) O percentual dos compradores que volta a comprar. (Taxa de retenção de compradores) </h4>\n",
    "<p>Neste tópico, é feito o uso da tabela <i>transactions</i>, onde levamos em conta tanto os compradores quanto o número de compras efetuadas por cada um. Considerando apenas o número total de compradores e excluindo os compradores que fizeram apenas uma única compra, é possível achar os compradores que compraram mais de uma vez. O resultado é 44,08%. </p>"
   ]
  },
  {
   "cell_type": "code",
   "execution_count": 191,
   "metadata": {
    "scrolled": true
   },
   "outputs": [],
   "source": [
    "transactions['quantity'] = 1\n",
    "buyersId = transactions.groupby('buyer_id').sum().sort_values('quantity', ascending=False)\n",
    "len(buyersId[buyersId['quantity'] > 1])\n",
    "percentOfBuyersThatBuyAgain = len(buyersId[buyersId['quantity'] > 1])/len(transactions.groupby('buyer_id'))"
   ]
  },
  {
   "cell_type": "code",
   "execution_count": 192,
   "metadata": {},
   "outputs": [
    {
     "data": {
      "text/plain": [
       "0.4408548707753479"
      ]
     },
     "execution_count": 192,
     "metadata": {},
     "output_type": "execute_result"
    }
   ],
   "source": [
    "percentOfBuyersThatBuyAgain"
   ]
  },
  {
   "cell_type": "markdown",
   "metadata": {},
   "source": [
    "<h4> 4) O percentual dos usuários que postam produtos. </h4>\n",
    "<p>Dado o número total de usuários que postam produtos (<i>products.user_id</i>) e o numero total de usuários cadastrados (<i>users.id</i>), o percentual de usuários que cadastrados que postam produtos é dado pela divisão abaixo:</p>"
   ]
  },
  {
   "cell_type": "code",
   "execution_count": 193,
   "metadata": {},
   "outputs": [
    {
     "data": {
      "text/plain": [
       "0.4380797064519417"
      ]
     },
     "execution_count": 193,
     "metadata": {},
     "output_type": "execute_result"
    }
   ],
   "source": [
    "usersProduct = products.groupby('user_id')\n",
    "usersTotal =  users.groupby('id')\n",
    "percentOfUsersThatPostProducts = len(usersProduct)/len(usersTotal)\n",
    "percentOfUsersThatPostProducts"
   ]
  },
  {
   "cell_type": "markdown",
   "metadata": {},
   "source": [
    "<p> resultando em um total de 43,80% de usuários que postam produtos.</p>"
   ]
  },
  {
   "cell_type": "markdown",
   "metadata": {},
   "source": [
    "<h4> 5) O número médio de produtos postados por vendedor. </h4>\n",
    "<p> É obtida pela soma das quantidades de produtos postados dividida pela contagem dos usuários, resultando em uma média de 19 produtos por usuário.</p>"
   ]
  },
  {
   "cell_type": "code",
   "execution_count": 194,
   "metadata": {},
   "outputs": [
    {
     "data": {
      "text/plain": [
       "19.806188925081432"
      ]
     },
     "execution_count": 194,
     "metadata": {},
     "output_type": "execute_result"
    }
   ],
   "source": [
    "productsGroupByUserId = products.groupby('user_id').sum()\n",
    "del productsGroupByUserId['price']\n",
    "productsGroupByUserId['quantity'].sum()/len(productsGroupByUserId)"
   ]
  },
  {
   "cell_type": "markdown",
   "metadata": {},
   "source": [
    "<h4> 6) O percentual de produtos postados que vendem em até 90 dias.</h4>\n",
    "<p> Obtido pela divisão entre a quantidade de produtos postados que vendem em até 90 dias e a quantidade total de produtos postados.</p>"
   ]
  },
  {
   "cell_type": "code",
   "execution_count": 195,
   "metadata": {
    "scrolled": true
   },
   "outputs": [],
   "source": [
    "productsSold = products[products['state'] == 'sold']\n",
    "postedSoldUntil90Days = 0\n",
    "contador = 0\n",
    "for cont in productsSold['id']:\n",
    "    product = productsSold[productsSold['id'] == cont]\n",
    "    productIndex = product.index.values[0]\n",
    "    for cont_lin in range(0, len(transactions)):\n",
    "        if  transactions.loc[cont_lin,'product_id'] == products.loc[productIndex,'id'] and str(int(products.loc[productIndex,'user_id'])) == transactions.loc[cont_lin, 'seller_id']:\n",
    "            if transactions.loc[cont_lin,'sold_at'] - products.loc[productIndex,'created_at'] <= timedelta(days=90) and transactions.loc[cont_lin,'sold_at'] - products.loc[productIndex,'created_at'] >= timedelta(days=0):\n",
    "                postedSoldUntil90Days = postedSoldUntil90Days + products.loc[productIndex,'quantity']"
   ]
  },
  {
   "cell_type": "code",
   "execution_count": 197,
   "metadata": {},
   "outputs": [],
   "source": [
    "productsPosted = products['quantity'].sum()"
   ]
  },
  {
   "cell_type": "code",
   "execution_count": 199,
   "metadata": {},
   "outputs": [
    {
     "data": {
      "text/plain": [
       "0.056550800568562265"
      ]
     },
     "execution_count": 199,
     "metadata": {},
     "output_type": "execute_result"
    }
   ],
   "source": [
    "postedSoldUntil90Days/productsPosted"
   ]
  },
  {
   "cell_type": "markdown",
   "metadata": {},
   "source": [
    "resultando em 5,65% de produtos postados que vendem em até 90 dias."
   ]
  },
  {
   "cell_type": "markdown",
   "metadata": {},
   "source": [
    "<h4> Observações</h4>\n",
    "<li> No segundo item, foi analisado que existem datas de compras anteriores a datas de cadastros. Sendo assim, os resultados apresentados anteriormente não levam em conta as subtrações negativas entre as datas de cadastro e de compra.</li>\n",
    "\n",
    "<li>No sexto item, é possível perceber que existem itens que foram vendidos, mas não apresentam cadastro. Esses itens precisam ser tratados com atenção e não serão inclusos nos cálculos. </li>\n",
    "\n"
   ]
  }
 ],
 "metadata": {
  "kernelspec": {
   "display_name": "Python 3",
   "language": "python",
   "name": "python3"
  },
  "language_info": {
   "codemirror_mode": {
    "name": "ipython",
    "version": 3
   },
   "file_extension": ".py",
   "mimetype": "text/x-python",
   "name": "python",
   "nbconvert_exporter": "python",
   "pygments_lexer": "ipython3",
   "version": "3.6.1"
  }
 },
 "nbformat": 4,
 "nbformat_minor": 2
}
